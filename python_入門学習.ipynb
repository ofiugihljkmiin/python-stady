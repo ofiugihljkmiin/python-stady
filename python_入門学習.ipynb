{
  "nbformat": 4,
  "nbformat_minor": 0,
  "metadata": {
    "colab": {
      "provenance": [],
      "include_colab_link": true
    },
    "kernelspec": {
      "name": "python3",
      "display_name": "Python 3"
    },
    "language_info": {
      "name": "python"
    }
  },
  "cells": [
    {
      "cell_type": "markdown",
      "metadata": {
        "id": "view-in-github",
        "colab_type": "text"
      },
      "source": [
        "<a href=\"https://colab.research.google.com/github/ofiugihljkmiin/python-stady/blob/main/python_%E5%85%A5%E9%96%80%E5%AD%A6%E7%BF%92.ipynb\" target=\"_parent\"><img src=\"https://colab.research.google.com/assets/colab-badge.svg\" alt=\"Open In Colab\"/></a>"
      ]
    },
    {
      "cell_type": "code",
      "source": [
        "money = \"1,980円\""
      ],
      "metadata": {
        "id": "0pzGsWqhs3ne"
      },
      "execution_count": null,
      "outputs": []
    },
    {
      "cell_type": "code",
      "source": [
        "money_int = money.replace(\",\",\"\").replace(\"円\",\"\")"
      ],
      "metadata": {
        "id": "GiuG7LR7s7mY"
      },
      "execution_count": null,
      "outputs": []
    },
    {
      "cell_type": "code",
      "source": [
        "money_int = int(money_int)"
      ],
      "metadata": {
        "id": "SyGcALISuOdQ"
      },
      "execution_count": null,
      "outputs": []
    },
    {
      "cell_type": "code",
      "source": [
        "print(money_int,type(money_int))"
      ],
      "metadata": {
        "colab": {
          "base_uri": "https://localhost:8080/"
        },
        "id": "ZRXe93m9tFZL",
        "outputId": "4782887a-32bc-45fc-fc4b-86ce0b361966"
      },
      "execution_count": null,
      "outputs": [
        {
          "output_type": "stream",
          "name": "stdout",
          "text": [
            "1980\n"
          ]
        }
      ]
    },
    {
      "cell_type": "code",
      "source": [
        "x = 15"
      ],
      "metadata": {
        "id": "kFBDFVIVvdSa"
      },
      "execution_count": null,
      "outputs": []
    },
    {
      "cell_type": "code",
      "source": [
        "if x % 5 == 0 and x % 3 == 0:\n",
        "  print(\"FizzBazz\")\n",
        "elif x % 5 == 0:\n",
        "  print(\"Fizz\")\n",
        "elif x % 3 == 0:\n",
        "  print(\"Buzz\")\n",
        "else :\n",
        "  print(\"error\")"
      ],
      "metadata": {
        "colab": {
          "base_uri": "https://localhost:8080/"
        },
        "id": "GkB6hU0fvftz",
        "outputId": "5128c04b-547f-46fe-dfb2-b5d7a38e8028"
      },
      "execution_count": null,
      "outputs": [
        {
          "output_type": "stream",
          "name": "stdout",
          "text": [
            "FizzBazz\n"
          ]
        }
      ]
    },
    {
      "cell_type": "code",
      "source": [],
      "metadata": {
        "id": "6cm3j2k1wIg4"
      },
      "execution_count": null,
      "outputs": []
    }
  ]
}